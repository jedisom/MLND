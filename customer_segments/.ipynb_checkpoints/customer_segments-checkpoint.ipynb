{
 "metadata": {
  "kernelspec": {
   "display_name": "Python 2",
   "language": "python",
   "name": "python2"
  },
  "language_info": {
   "codemirror_mode": {
    "name": "ipython",
    "version": 2
   },
   "file_extension": ".py",
   "mimetype": "text/x-python",
   "name": "python",
   "nbconvert_exporter": "python",
   "pygments_lexer": "ipython2",
   "version": "2.7.10"
  },
  "name": "",
  "signature": "sha256:5f110d606f4233c78b51c0ff33402b9bd6bf99d78e668d26f0d66c8e8ff3df77"
 },
 "nbformat": 3,
 "nbformat_minor": 0,
 "worksheets": [
  {
   "cells": [
    {
     "cell_type": "heading",
     "level": 1,
     "metadata": {},
     "source": [
      "Creating Customer Segments"
     ]
    },
    {
     "cell_type": "markdown",
     "metadata": {},
     "source": [
      "In this project you, will analyze a dataset containing annual spending amounts for internal structure, to understand the variation in the different types of customers that a wholesale distributor interacts with.\n",
      "\n",
      "Instructions:\n",
      "\n",
      "- Run each code block below by pressing **Shift+Enter**, making sure to implement any steps marked with a TODO.\n",
      "- Answer each question in the space provided by editing the blocks labeled \"Answer:\".\n",
      "- When you are done, submit the completed notebook (.ipynb) with all code blocks executed, as well as a .pdf version (File > Download as)."
     ]
    },
    {
     "cell_type": "code",
     "collapsed": false,
     "input": [
      "# Import libraries: NumPy, pandas, matplotlib\n",
      "import numpy as np\n",
      "import pandas as pd\n",
      "import matplotlib.pyplot as plt\n",
      "\n",
      "# Tell iPython to include plots inline in the notebook\n",
      "%matplotlib inline\n",
      "\n",
      "# Read dataset\n",
      "data = pd.read_csv(\"wholesale-customers.csv\")\n",
      "print \"Dataset has {} rows, {} columns\".format(*data.shape)\n",
      "print data.head()  # print the first 5 rows"
     ],
     "language": "python",
     "metadata": {},
     "outputs": [
      {
       "output_type": "stream",
       "stream": "stdout",
       "text": [
        "Dataset has 440 rows, 6 columns\n",
        "   Fresh  Milk  Grocery  Frozen  Detergents_Paper  Delicatessen\n",
        "0  12669  9656     7561     214              2674          1338\n",
        "1   7057  9810     9568    1762              3293          1776\n",
        "2   6353  8808     7684    2405              3516          7844\n",
        "3  13265  1196     4221    6404               507          1788\n",
        "4  22615  5410     7198    3915              1777          5185\n"
       ]
      }
     ],
     "prompt_number": 1
    },
    {
     "cell_type": "heading",
     "level": 2,
     "metadata": {},
     "source": [
      "Feature Transformation"
     ]
    },
    {
     "cell_type": "markdown",
     "metadata": {},
     "source": [
      "**1)** In this section you will be using PCA and ICA to start to understand the structure of the data. Before doing any computations, what do you think will show up in your computations? List one or two ideas for what might show up as the first PCA dimensions, or what type of vectors will show up as ICA dimensions."
     ]
    },
    {
     "cell_type": "markdown",
     "metadata": {},
     "source": [
      "Answer: I think that PCA will find that some of the categories like Fresh and Milk are similar and will find a way to group them together in one of its principle components; this might be a surrogate for freshness.  ICA is harder to predict because it is looking to create statistically independent features from the current features.  Maybe ICA might find features that are more like the cuisine/type of food?"
     ]
    },
    {
     "cell_type": "heading",
     "level": 3,
     "metadata": {},
     "source": [
      "PCA"
     ]
    },
    {
     "cell_type": "code",
     "collapsed": false,
     "input": [
      "# TODO: Apply PCA with the same number of dimensions as variables in the dataset\n",
      "from sklearn.decomposition import PCA\n",
      "n_features = data.shape[1]\n",
      "pca = PCA(n_components = n_features, whiten = True).fit(data)\n",
      "\n",
      "# Print the components and the amount of variance in the data contained in each dimension\n",
      "print pca.components_\n",
      "print pca.explained_variance_ratio_"
     ],
     "language": "python",
     "metadata": {},
     "outputs": [
      {
       "output_type": "stream",
       "stream": "stdout",
       "text": [
        "[[-0.97653685 -0.12118407 -0.06154039 -0.15236462  0.00705417 -0.06810471]\n",
        " [-0.11061386  0.51580216  0.76460638 -0.01872345  0.36535076  0.05707921]\n",
        " [-0.17855726  0.50988675 -0.27578088  0.71420037 -0.20440987  0.28321747]\n",
        " [-0.04187648 -0.64564047  0.37546049  0.64629232  0.14938013 -0.02039579]\n",
        " [ 0.015986    0.20323566 -0.1602915   0.22018612  0.20793016 -0.91707659]\n",
        " [-0.01576316  0.03349187  0.41093894 -0.01328898 -0.87128428 -0.26541687]]\n",
        "[ 0.45961362  0.40517227  0.07003008  0.04402344  0.01502212  0.00613848]\n"
       ]
      }
     ],
     "prompt_number": 2
    },
    {
     "cell_type": "markdown",
     "metadata": {},
     "source": [
      "**2)** How quickly does the variance drop off by dimension? If you were to use PCA on this dataset, how many dimensions would you choose for your analysis? Why?"
     ]
    },
    {
     "cell_type": "markdown",
     "metadata": {
      "collapsed": true
     },
     "source": [
      "Answer: The pca.explained_variance_ratio (which is the vector of the eigenvalues for this analysis) shows that the first 2 components explain a lot of the variation (0.4596 and 0.40517).  After that the components don't seem to describe much of the variance at all (<= 0.07003).  So, I would probably only use the first 2 components in my analysis."
     ]
    },
    {
     "cell_type": "markdown",
     "metadata": {},
     "source": [
      "**3)** What do the dimensions seem to represent? How can you use this information?"
     ]
    },
    {
     "cell_type": "markdown",
     "metadata": {
      "collapsed": true
     },
     "source": [
      "Answer: Each row in the pca.components output represents one of the principle components and each column represents one of the original features input into PCA.  This table seems to suggest that Fresh is one strong component (-0.9765), and the 2nd component seems to be a pretty strong mix of Milk, Grocery, and Detergent-Paper (0.515, 0.764, and 0.365 respectively)."
     ]
    },
    {
     "cell_type": "heading",
     "level": 3,
     "metadata": {},
     "source": [
      "ICA"
     ]
    },
    {
     "cell_type": "code",
     "collapsed": false,
     "input": [
      "# TODO: Fit an ICA model to the data\n",
      "# Note: Adjust the data to have center at the origin first!\n",
      "from sklearn.decomposition import FastICA\n",
      "ica = FastICA(n_components = n_features, whiten = True, random_state = 1).fit(data)\n",
      "\n",
      "# Print the independent components\n",
      "print ica.components_"
     ],
     "language": "python",
     "metadata": {},
     "outputs": [
      {
       "output_type": "stream",
       "stream": "stdout",
       "text": [
        "[[  3.97606988e-06  -8.59095610e-07  -6.28332968e-07  -6.77258968e-07\n",
        "    2.06894449e-06  -1.04145887e-06]\n",
        " [  2.10702814e-07  -1.87943943e-06   6.42592597e-06   4.11090991e-07\n",
        "   -8.11795817e-07  -1.45900800e-06]\n",
        " [  1.53010410e-07   9.84852788e-06  -5.80513127e-06  -3.65024404e-07\n",
        "    3.29561680e-06  -6.06077929e-06]\n",
        " [  3.86495892e-07   2.19736199e-07   6.00300827e-07   5.22388925e-07\n",
        "   -5.09398300e-07  -1.80940260e-05]\n",
        " [ -2.99042620e-07   2.30038477e-06   1.20624971e-05  -1.46225437e-06\n",
        "   -2.82103904e-05  -5.72811013e-06]\n",
        " [  8.65194050e-07   1.40638597e-07  -7.73310373e-07  -1.11468252e-05\n",
        "    5.53806273e-07   5.95184225e-06]]\n"
       ]
      },
      {
       "output_type": "stream",
       "stream": "stderr",
       "text": [
        "C:\\Python27\\lib\\site-packages\\sklearn\\decomposition\\fastica_.py:299: DeprecationWarning: Implicitly casting between incompatible kinds. In a future numpy release, this will raise an error. Use casting=\"unsafe\" if this is intentional.\n",
        "  X -= X_mean[:, np.newaxis]\n"
       ]
      }
     ],
     "prompt_number": 3
    },
    {
     "cell_type": "markdown",
     "metadata": {},
     "source": [
      "**4)** For each vector in the ICA decomposition, write a sentence or two explaining what sort of object or property it corresponds to. What could these components be used for?"
     ]
    },
    {
     "cell_type": "markdown",
     "metadata": {
      "collapsed": true
     },
     "source": [
      "Answer: "
     ]
    },
    {
     "cell_type": "markdown",
     "metadata": {},
     "source": [
      "##Clustering\n",
      "\n",
      "In this section you will choose either K Means clustering or Gaussian Mixed Models clustering, which implements expectation-maximization. Then you will sample elements from the clusters to understand their significance."
     ]
    },
    {
     "cell_type": "markdown",
     "metadata": {},
     "source": [
      "###Choose a Cluster Type\n",
      "\n",
      "**5)** What are the advantages of using K Means clustering or Gaussian Mixture Models?"
     ]
    },
    {
     "cell_type": "markdown",
     "metadata": {},
     "source": [
      "Answer: "
     ]
    },
    {
     "cell_type": "markdown",
     "metadata": {},
     "source": [
      "**6)** Below is some starter code to help you visualize some cluster data. The visualization is based on [this demo](http://scikit-learn.org/stable/auto_examples/cluster/plot_kmeans_digits.html) from the sklearn documentation."
     ]
    },
    {
     "cell_type": "code",
     "collapsed": true,
     "input": [
      "# Import clustering modules\n",
      "from sklearn.cluster import KMeans\n",
      "from sklearn.mixture import GMM"
     ],
     "language": "python",
     "metadata": {},
     "outputs": [],
     "prompt_number": 4
    },
    {
     "cell_type": "code",
     "collapsed": false,
     "input": [
      "# TODO: First we reduce the data to two dimensions using PCA to capture variation\n",
      "reduced_data = PCA(n_components = 2, whiten = True).fit_transform(data)\n",
      "print reduced_data[:10]  # print upto 10 elements"
     ],
     "language": "python",
     "metadata": {},
     "outputs": [
      {
       "output_type": "stream",
       "stream": "stdout",
       "text": [
        "[[-0.05066239  0.13161505]\n",
        " [ 0.34502287  0.33556674]\n",
        " [ 0.37738285  0.21406486]\n",
        " [-0.07718708 -0.5212911 ]\n",
        " [-0.83067886 -0.17928035]\n",
        " [ 0.2155776  -0.07967954]\n",
        " [ 0.05576966 -0.16710073]\n",
        " [ 0.34874672  0.11866355]\n",
        " [ 0.52313722 -0.18311407]\n",
        " [ 0.37595155  1.11903068]]\n"
       ]
      }
     ],
     "prompt_number": 5
    },
    {
     "cell_type": "code",
     "collapsed": false,
     "input": [
      "# TODO: Implement your clustering algorithm here, and fit it to the reduced data for visualization\n",
      "# The visualizer below assumes your clustering object is named 'clusters'\n",
      "\n",
      "np.random.seed(1)\n",
      "for k in range(2, 8):   #do this for 2 <= k <=7\n",
      "    clusters = KMeans(n_clusters = k).fit(reduced_data)\n",
      "    clusters_score = clusters.score(reduced_data)  \n",
      "    print \"k: %d; Score: %r \" % (k, clusters_score)\n",
      "    \n",
      "#create a visualization of this data...\n",
      "#Looks like there's an elbow around 5 clusters\n",
      "clusters = KMeans(n_clusters = 5).fit(reduced_data)\n",
      "    \n",
      "print clusters"
     ],
     "language": "python",
     "metadata": {},
     "outputs": [
      {
       "output_type": "stream",
       "stream": "stdout",
       "text": [
        "k: 2; Score: -610.39909320002039 \n",
        "k: 3; Score: -380.90638734715094 \n",
        "k: 4; Score: -277.41219085645105 "
       ]
      },
      {
       "output_type": "stream",
       "stream": "stdout",
       "text": [
        "\n",
        "k: 5; Score: -207.38394972420326 \n",
        "k: 6; Score: -169.16367440392543 "
       ]
      },
      {
       "output_type": "stream",
       "stream": "stdout",
       "text": [
        "\n",
        "k: 7; Score: -136.6670821722044 \n",
        "KMeans(copy_x=True, init='k-means++', max_iter=300, n_clusters=5, n_init=10,\n",
        "    n_jobs=1, precompute_distances='auto', random_state=None, tol=0.0001,\n",
        "    verbose=0)"
       ]
      },
      {
       "output_type": "stream",
       "stream": "stdout",
       "text": [
        "\n"
       ]
      }
     ],
     "prompt_number": 8
    },
    {
     "cell_type": "code",
     "collapsed": false,
     "input": [
      "# Plot the decision boundary by building a mesh grid to populate a graph.\n",
      "x_min, x_max = reduced_data[:, 0].min() - 1, reduced_data[:, 0].max() + 1\n",
      "y_min, y_max = reduced_data[:, 1].min() - 1, reduced_data[:, 1].max() + 1\n",
      "hx = (x_max-x_min)/1000.\n",
      "hy = (y_max-y_min)/1000.\n",
      "xx, yy = np.meshgrid(np.arange(x_min, x_max, hx), np.arange(y_min, y_max, hy))\n",
      "\n",
      "# Obtain labels for each point in mesh. Use last trained model.\n",
      "Z = clusters.predict(np.c_[xx.ravel(), yy.ravel()])"
     ],
     "language": "python",
     "metadata": {},
     "outputs": [],
     "prompt_number": 9
    },
    {
     "cell_type": "code",
     "collapsed": false,
     "input": [
      "# TODO: Find the centroids for KMeans or the cluster means for GMM \n",
      "\n",
      "centroids = ?\n",
      "print centroids"
     ],
     "language": "python",
     "metadata": {},
     "outputs": [],
     "prompt_number": null
    },
    {
     "cell_type": "code",
     "collapsed": false,
     "input": [
      "# Put the result into a color plot\n",
      "Z = Z.reshape(xx.shape)\n",
      "plt.figure(1)\n",
      "plt.clf()\n",
      "plt.imshow(Z, interpolation='nearest',\n",
      "           extent=(xx.min(), xx.max(), yy.min(), yy.max()),\n",
      "           cmap=plt.cm.Paired,\n",
      "           aspect='auto', origin='lower')\n",
      "\n",
      "plt.plot(reduced_data[:, 0], reduced_data[:, 1], 'k.', markersize=2)\n",
      "plt.scatter(centroids[:, 0], centroids[:, 1],\n",
      "            marker='x', s=169, linewidths=3,\n",
      "            color='w', zorder=10)\n",
      "plt.title('Clustering on the wholesale grocery dataset (PCA-reduced data)\\n'\n",
      "          'Centroids are marked with white cross')\n",
      "plt.xlim(x_min, x_max)\n",
      "plt.ylim(y_min, y_max)\n",
      "plt.xticks(())\n",
      "plt.yticks(())\n",
      "plt.show()"
     ],
     "language": "python",
     "metadata": {},
     "outputs": [],
     "prompt_number": null
    },
    {
     "cell_type": "markdown",
     "metadata": {},
     "source": [
      "**7)** What are the central objects in each cluster? Describe them as customers."
     ]
    },
    {
     "cell_type": "markdown",
     "metadata": {
      "collapsed": true
     },
     "source": [
      "Answer: "
     ]
    },
    {
     "cell_type": "markdown",
     "metadata": {},
     "source": [
      "###Conclusions\n",
      "\n",
      "** 8)** Which of these techniques did you feel gave you the most insight into the data?"
     ]
    },
    {
     "cell_type": "markdown",
     "metadata": {
      "collapsed": true
     },
     "source": [
      "Answer: "
     ]
    },
    {
     "cell_type": "markdown",
     "metadata": {
      "collapsed": true
     },
     "source": [
      "**9)** How would you use that technique to help the company design new experiments?"
     ]
    },
    {
     "cell_type": "markdown",
     "metadata": {},
     "source": [
      "Answer: "
     ]
    },
    {
     "cell_type": "markdown",
     "metadata": {},
     "source": [
      "**10)** How would you use that data to help you predict future customer needs?"
     ]
    },
    {
     "cell_type": "markdown",
     "metadata": {},
     "source": [
      "Answer: "
     ]
    }
   ],
   "metadata": {}
  }
 ]
}